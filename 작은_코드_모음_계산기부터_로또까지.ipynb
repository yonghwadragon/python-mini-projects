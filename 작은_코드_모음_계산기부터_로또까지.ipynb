{
  "nbformat": 4,
  "nbformat_minor": 0,
  "metadata": {
    "colab": {
      "provenance": [],
      "authorship_tag": "ABX9TyMZoXQTC8iZECHtlejyLDvq",
      "include_colab_link": true
    },
    "kernelspec": {
      "name": "python3",
      "display_name": "Python 3"
    },
    "language_info": {
      "name": "python"
    }
  },
  "cells": [
    {
      "cell_type": "markdown",
      "metadata": {
        "id": "view-in-github",
        "colab_type": "text"
      },
      "source": [
        "<a href=\"https://colab.research.google.com/github/yonghwadragon/python-mini-projects/blob/main/%EC%9E%91%EC%9D%80_%EC%BD%94%EB%93%9C_%EB%AA%A8%EC%9D%8C_%EA%B3%84%EC%82%B0%EA%B8%B0%EB%B6%80%ED%84%B0_%EB%A1%9C%EB%98%90%EA%B9%8C%EC%A7%80.ipynb\" target=\"_parent\"><img src=\"https://colab.research.google.com/assets/colab-badge.svg\" alt=\"Open In Colab\"/></a>"
      ]
    },
    {
      "cell_type": "code",
      "source": [
        "def calculator():\n",
        "   print(\"간단한 계산기입니다. 두 숫자와 연산자를 입력하세요.\")\n",
        "   num1 = float(input(\"첫 번째 숫자 입력: \"))\n",
        "   operator = input(\"연산자 입력 (+, -, *, /): \")\n",
        "   num2 = float(input(\"두 번째 숫자 입력: \"))\n",
        "\n",
        "   if operator == '+':\n",
        "       result = num1 + num2\n",
        "   elif operator == '-':\n",
        "       result = num1 - num2\n",
        "   elif operator == '*':\n",
        "       result = num1 * num2\n",
        "   elif operator == '/':\n",
        "       if num2 != 0:\n",
        "           result = num1 / num2\n",
        "       else:\n",
        "           return \"0으로 나눌 수 없습니다.\"\n",
        "   else:\n",
        "       return \"올바른 연산자를 입력하세요.\"\n",
        "\n",
        "   return f\"결과: {num1} {operator} {num2} = {result}\"\n",
        "\n",
        "# 계산기 실행\n",
        "print(calculator())"
      ],
      "metadata": {
        "colab": {
          "base_uri": "https://localhost:8080/"
        },
        "id": "e4uwmDJJBI92",
        "outputId": "81fc14e7-e0ca-47a2-86e6-b011b5206492"
      },
      "execution_count": null,
      "outputs": [
        {
          "output_type": "stream",
          "name": "stdout",
          "text": [
            "간단한 계산기입니다. 두 숫자와 연산자를 입력하세요.\n",
            "첫 번째 숫자 입력: 0.00001\n",
            "연산자 입력 (+, -, *, /): /\n",
            "두 번째 숫자 입력: 123123\n",
            "결과: 1e-05 / 123123.0 = 8.121959341471537e-11\n"
          ]
        }
      ]
    },
    {
      "cell_type": "code",
      "source": [
        "import tensorflow as tf\n",
        "from tensorflow.keras import layers, models\n",
        "from tensorflow.keras.datasets import mnist\n",
        "from tensorflow.keras.utils import to_categorical\n",
        "\n",
        "# MNIST 데이터셋 로드 및 전처리\n",
        "(train_images, train_labels), (test_images, test_labels) = mnist.load_data()\n",
        "train_images = train_images.reshape((60000, 28, 28, 1)).astype('float32') / 255\n",
        "test_images = test_images.reshape((10000, 28, 28, 1)).astype('float32') / 255\n",
        "\n",
        "train_labels = to_categorical(train_labels)\n",
        "test_labels = to_categorical(test_labels)\n",
        "\n",
        "# CNN 모델 정의\n",
        "model = models.Sequential()\n",
        "model.add(layers.Conv2D(32, (3, 3), activation='relu', input_shape=(28, 28, 1)))\n",
        "model.add(layers.MaxPooling2D((2, 2)))\n",
        "model.add(layers.Conv2D(64, (3, 3), activation='relu'))\n",
        "model.add(layers.MaxPooling2D((2, 2)))\n",
        "model.add(layers.Conv2D(64, (3, 3), activation='relu'))\n",
        "model.add(layers.Flatten())\n",
        "model.add(layers.Dense(64, activation='relu'))\n",
        "model.add(layers.Dense(10, activation='softmax'))\n",
        "\n",
        "# 모델 컴파일\n",
        "model.compile(optimizer='adam',\n",
        "             loss='categorical_crossentropy',\n",
        "             metrics=['accuracy'])\n",
        "\n",
        "# 모델 훈련\n",
        "model.fit(train_images, train_labels, epochs=5, batch_size=64, validation_split=0.2)\n",
        "\n",
        "# 모델 평가\n",
        "test_loss, test_acc = model.evaluate(test_images, test_labels)\n",
        "print(f\"테스트 정확도: {test_acc}\")"
      ],
      "metadata": {
        "colab": {
          "base_uri": "https://localhost:8080/"
        },
        "id": "FwzJYxKLBKSt",
        "outputId": "92c038d5-4ed7-4259-a823-be6533834938"
      },
      "execution_count": null,
      "outputs": [
        {
          "output_type": "stream",
          "name": "stdout",
          "text": [
            "Downloading data from https://storage.googleapis.com/tensorflow/tf-keras-datasets/mnist.npz\n",
            "\u001b[1m11490434/11490434\u001b[0m \u001b[32m━━━━━━━━━━━━━━━━━━━━\u001b[0m\u001b[37m\u001b[0m \u001b[1m0s\u001b[0m 0us/step\n"
          ]
        },
        {
          "output_type": "stream",
          "name": "stderr",
          "text": [
            "/usr/local/lib/python3.11/dist-packages/keras/src/layers/convolutional/base_conv.py:107: UserWarning: Do not pass an `input_shape`/`input_dim` argument to a layer. When using Sequential models, prefer using an `Input(shape)` object as the first layer in the model instead.\n",
            "  super().__init__(activity_regularizer=activity_regularizer, **kwargs)\n"
          ]
        },
        {
          "output_type": "stream",
          "name": "stdout",
          "text": [
            "Epoch 1/5\n",
            "\u001b[1m750/750\u001b[0m \u001b[32m━━━━━━━━━━━━━━━━━━━━\u001b[0m\u001b[37m\u001b[0m \u001b[1m44s\u001b[0m 56ms/step - accuracy: 0.8361 - loss: 0.5083 - val_accuracy: 0.9764 - val_loss: 0.0761\n",
            "Epoch 2/5\n",
            "\u001b[1m750/750\u001b[0m \u001b[32m━━━━━━━━━━━━━━━━━━━━\u001b[0m\u001b[37m\u001b[0m \u001b[1m79s\u001b[0m 52ms/step - accuracy: 0.9822 - loss: 0.0575 - val_accuracy: 0.9868 - val_loss: 0.0446\n",
            "Epoch 3/5\n",
            "\u001b[1m750/750\u001b[0m \u001b[32m━━━━━━━━━━━━━━━━━━━━\u001b[0m\u001b[37m\u001b[0m \u001b[1m39s\u001b[0m 52ms/step - accuracy: 0.9890 - loss: 0.0360 - val_accuracy: 0.9872 - val_loss: 0.0428\n",
            "Epoch 4/5\n",
            "\u001b[1m750/750\u001b[0m \u001b[32m━━━━━━━━━━━━━━━━━━━━\u001b[0m\u001b[37m\u001b[0m \u001b[1m39s\u001b[0m 52ms/step - accuracy: 0.9900 - loss: 0.0303 - val_accuracy: 0.9896 - val_loss: 0.0364\n",
            "Epoch 5/5\n",
            "\u001b[1m750/750\u001b[0m \u001b[32m━━━━━━━━━━━━━━━━━━━━\u001b[0m\u001b[37m\u001b[0m \u001b[1m39s\u001b[0m 52ms/step - accuracy: 0.9926 - loss: 0.0217 - val_accuracy: 0.9851 - val_loss: 0.0512\n",
            "\u001b[1m313/313\u001b[0m \u001b[32m━━━━━━━━━━━━━━━━━━━━\u001b[0m\u001b[37m\u001b[0m \u001b[1m3s\u001b[0m 9ms/step - accuracy: 0.9811 - loss: 0.0584\n",
            "테스트 정확도: 0.9858999848365784\n"
          ]
        }
      ]
    },
    {
      "cell_type": "code",
      "source": [
        "import random\n",
        "\n",
        "def roll_dice():\n",
        "   result = random.randint(1, 6)\n",
        "   return result\n",
        "\n",
        "# 주사위 던지기\n",
        "dice_result = roll_dice()\n",
        "\n",
        "# 결과 출력\n",
        "print(f\"주사위 결과: {dice_result}\")\n"
      ],
      "metadata": {
        "colab": {
          "base_uri": "https://localhost:8080/"
        },
        "id": "waOvolxbBLw_",
        "outputId": "55876d26-6017-43c9-8323-d3f392ef3ade"
      },
      "execution_count": null,
      "outputs": [
        {
          "output_type": "stream",
          "name": "stdout",
          "text": [
            "주사위 결과: 3\n"
          ]
        }
      ]
    },
    {
      "cell_type": "code",
      "source": [
        "# 숫자 맞추기 게임\n",
        "\n",
        "import random\n",
        "\n",
        "def guess_the_number():\n",
        "   print(\"숫자 맞추기 게임을 시작합니다.\")\n",
        "\n",
        "    # 1에서 100 사이의 랜덤한 숫자 생성\n",
        "   secret_number = random.randint(1, 100)\n",
        "\n",
        "   attempts = 0\n",
        "\n",
        "   while True:\n",
        "        # 사용자로부터 숫자 입력 받기\n",
        "       user_guess = int(input(\"1에서 100 사이의 숫자를 입력하세요: \"))\n",
        "\n",
        "       attempts += 1\n",
        "\n",
        "        # 사용자의 추측이 정답과 일치하는지 확인\n",
        "       if user_guess == secret_number:\n",
        "           print(f\"축하합니다! {attempts}번만에 숫자를 맞추셨습니다.\")\n",
        "           break\n",
        "       elif user_guess < secret_number:\n",
        "           print(\"더 큰 숫자를 입력하세요.\")\n",
        "       else:\n",
        "           print(\"더 작은 숫자를 입력하세요.\")\n",
        "\n",
        "# 게임 실행\n",
        "guess_the_number()"
      ],
      "metadata": {
        "colab": {
          "base_uri": "https://localhost:8080/"
        },
        "id": "gs7a6mHaBNMd",
        "outputId": "52bb7f99-a8bb-4a33-befb-5107321e9c8b"
      },
      "execution_count": null,
      "outputs": [
        {
          "output_type": "stream",
          "name": "stdout",
          "text": [
            "숫자 맞추기 게임을 시작합니다.\n",
            "1에서 100 사이의 숫자를 입력하세요: 50\n",
            "더 큰 숫자를 입력하세요.\n",
            "1에서 100 사이의 숫자를 입력하세요: 75\n",
            "더 작은 숫자를 입력하세요.\n",
            "1에서 100 사이의 숫자를 입력하세요: 63\n",
            "더 작은 숫자를 입력하세요.\n",
            "1에서 100 사이의 숫자를 입력하세요: 55\n",
            "더 큰 숫자를 입력하세요.\n",
            "1에서 100 사이의 숫자를 입력하세요: 58\n",
            "더 큰 숫자를 입력하세요.\n",
            "1에서 100 사이의 숫자를 입력하세요: 60\n",
            "더 작은 숫자를 입력하세요.\n",
            "1에서 100 사이의 숫자를 입력하세요: 59\n",
            "축하합니다! 7번만에 숫자를 맞추셨습니다.\n"
          ]
        }
      ]
    },
    {
      "cell_type": "code",
      "source": [
        "# 퀴즈 데이터 설정\n",
        "quiz_data = {\n",
        "   \"질문1\": \"2+2는 무엇인가요?\",\n",
        "   \"답1\": \"4\",\n",
        "\n",
        "   \"질문2\": \"세계에서 가장 큰 동물은 무엇인가요?\",\n",
        "   \"답2\": \"푸른고래\",\n",
        "\n",
        "   \"질문3\": \"대한민국의 수도는 무엇인가요?\",\n",
        "    \"답3\": \"서울\"\n",
        "}\n",
        "\n",
        "# 퀴즈 풀기\n",
        "def take_quiz():\n",
        "   score = 0\n",
        "   for i in range(1, len(quiz_data)//2 + 1):\n",
        "       question = quiz_data[f\"질문{i}\"]\n",
        "       answer = quiz_data[f\"답{i}\"]\n",
        "\n",
        "       user_answer = input(f\"{question}\\n답: \").strip()\n",
        "\n",
        "       if user_answer.lower() == answer.lower():\n",
        "           print(\"정답입니다!\\n\")\n",
        "           score += 1\n",
        "       else:\n",
        "           print(f\"틀렸습니다. 정답은 {answer}입니다.\\n\")\n",
        "\n",
        "   print(f\"퀴즈가 종료되었습니다. 총 {len(quiz_data)//2}문제 중 {score}문제를 맞추셨습니다.\")\n",
        "\n",
        "# 퀴즈 풀기 실행\n",
        "take_quiz()"
      ],
      "metadata": {
        "colab": {
          "base_uri": "https://localhost:8080/"
        },
        "id": "VinbKi2lBOmv",
        "outputId": "d46d99f1-bcdc-452f-a2ef-63edd3f3830d"
      },
      "execution_count": null,
      "outputs": [
        {
          "output_type": "stream",
          "name": "stdout",
          "text": [
            "2+2는 무엇인가요?\n",
            "답: 4\n",
            "정답입니다!\n",
            "\n",
            "세계에서 가장 큰 동물은 무엇인가요?\n",
            "답: 푸른고래\n",
            "정답입니다!\n",
            "\n",
            "대한민국의 수도는 무엇인가요?\n",
            "답: 서울\n",
            "정답입니다!\n",
            "\n",
            "퀴즈가 종료되었습니다. 총 3문제 중 3문제를 맞추셨습니다.\n"
          ]
        }
      ]
    },
    {
      "cell_type": "code",
      "source": [
        "import random\n",
        "\n",
        "def generate_lotto_numbers():\n",
        "   lotto_numbers = random.sample(range(1, 46), 6)\n",
        "   return sorted(lotto_numbers)\n",
        "\n",
        "# 실행\n",
        "lotto_result = generate_lotto_numbers()\n",
        "print(\"로또 번호:\", lotto_result)"
      ],
      "metadata": {
        "colab": {
          "base_uri": "https://localhost:8080/"
        },
        "id": "zQGDs2vRBQ-d",
        "outputId": "968c1404-8ffc-4e15-e5b4-5d4b9d3d9a6b"
      },
      "execution_count": null,
      "outputs": [
        {
          "output_type": "stream",
          "name": "stdout",
          "text": [
            "로또 번호: [5, 7, 11, 12, 29, 30]\n"
          ]
        }
      ]
    }
  ]
}